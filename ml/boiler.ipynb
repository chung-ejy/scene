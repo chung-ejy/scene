{
 "cells": [
  {
   "cell_type": "code",
   "execution_count": 1,
   "metadata": {},
   "outputs": [],
   "source": [
    "import pandas as pd\n",
    "from database.database import Database\n",
    "from modeler.modeler import Modeler as m\n",
    "import matplotlib.pyplot as plt\n",
    "from datetime import datetime, timedelta"
   ]
  },
  {
   "cell_type": "code",
   "execution_count": 2,
   "metadata": {},
   "outputs": [],
   "source": [
    "project_name = \"scene\""
   ]
  },
  {
   "cell_type": "code",
   "execution_count": 3,
   "metadata": {},
   "outputs": [],
   "source": [
    "db = Database(project_name)"
   ]
  },
  {
   "cell_type": "code",
   "execution_count": 32,
   "metadata": {},
   "outputs": [],
   "source": [
    "## Transform data\n",
    "reviews = pd.read_csv(\"rotten_tomatoes_critic_reviews.csv\")\n",
    "movies = pd.read_csv(\"rotten_tomatoes_movies.csv\")\n",
    "trailers = pd.read_csv(\"ml-youtube.csv\")"
   ]
  },
  {
   "cell_type": "code",
   "execution_count": 36,
   "metadata": {},
   "outputs": [],
   "source": [
    "db.connect()\n",
    "db.store_data(\"trailers\",trailers)\n",
    "db.close()"
   ]
  },
  {
   "cell_type": "code",
   "execution_count": 7,
   "metadata": {},
   "outputs": [],
   "source": [
    "db.connect()\n",
    "db.store_data(\"movies\",movies)\n",
    "db.close()"
   ]
  },
  {
   "cell_type": "code",
   "execution_count": 37,
   "metadata": {},
   "outputs": [],
   "source": [
    "db.connect()\n",
    "t = db.retrieve_data(\"trailers\")\n",
    "db.close()"
   ]
  },
  {
   "cell_type": "code",
   "execution_count": 42,
   "metadata": {
    "scrolled": true
   },
   "outputs": [
    {
     "data": {
      "text/plain": [
       "{'rotten_tomatoes_link': 'm/klaus',\n",
       " 'movie_title': 'Klaus',\n",
       " 'movie_info': 'A desperate postman accidentally brings about the genesis of Santa Claus.',\n",
       " 'critics_consensus': 'Beautiful hand-drawn animation and a humorous, heartwarming narrative make Klaus an instant candidate for holiday classic status.',\n",
       " 'content_rating': 'PG',\n",
       " 'genres': 'Animation, Comedy, Kids & Family, Science Fiction & Fantasy',\n",
       " 'directors': 'Sergio Pablos',\n",
       " 'authors': 'Jim Mahoney, Zach Lewis',\n",
       " 'actors': 'Jason Schwartzman, J.K. Simmons, Rashida Jones, Will Sasso, Neda Margrethe Labba, Sergio Pablos, Norm Macdonald, Joan Cusack',\n",
       " 'original_release_date': '2019-11-08',\n",
       " 'streaming_release_date': '2019-11-15',\n",
       " 'runtime': 98.0,\n",
       " 'production_company': 'Netflix',\n",
       " 'tomatometer_status': 'Certified-Fresh',\n",
       " 'tomatometer_rating': 94.0,\n",
       " 'tomatometer_count': 67.0,\n",
       " 'audience_status': 'Upright',\n",
       " 'audience_rating': 97.0,\n",
       " 'audience_count': 2040.0,\n",
       " 'tomatometer_top_critics_count': 13,\n",
       " 'tomatometer_fresh_critics_count': 63,\n",
       " 'tomatometer_rotten_critics_count': 4}"
      ]
     },
     "execution_count": 42,
     "metadata": {},
     "output_type": "execute_result"
    }
   ],
   "source": [
    "movies.dropna(inplace=True)\n",
    "pd.DataFrame([row[1] for row in movies.iterrows() if \"Science Fiction & Fantasy\" in row[1][\"genres\"] and int(row[1][\"audience_rating\"])>80]).sort_values(\"audience_rating\",ascending=False).iloc[0].to_dict()"
   ]
  },
  {
   "cell_type": "code",
   "execution_count": null,
   "metadata": {},
   "outputs": [],
   "source": [
    "pd.read_html(\"https://www.youtube.com/results?search_query=guardians+of+the+galaxy+trailer\")"
   ]
  },
  {
   "cell_type": "code",
   "execution_count": null,
   "metadata": {},
   "outputs": [],
   "source": [
    "# ## Refine Data\n",
    "# ## if classification make appropriate changes\n",
    "# factors = []\n",
    "# label = \"\"\n",
    "# index = \"\"\n",
    "# data[\"y\"] = data[label]\n",
    "# data.drop(label,axis=1)\n",
    "# data = data.sample(frac=1)\n",
    "# train = data.iloc[:int(data.index.size * 0.7)]\n",
    "# test = data.iloc[int(data.index.size * 0.7):]\n",
    "# X = train[factors]\n",
    "# y = train[[\"y\"]]\n",
    "# y[\"y_class\"] = 1\n",
    "# refined_data = {\"X\":X,\"y\":y}"
   ]
  },
  {
   "cell_type": "code",
   "execution_count": null,
   "metadata": {},
   "outputs": [],
   "source": [
    "## Model\n",
    "# model = m.regression(refined_data,ranked=False,tf=False,deep=False,sk=True,xgb=True)"
   ]
  },
  {
   "cell_type": "code",
   "execution_count": null,
   "metadata": {},
   "outputs": [],
   "source": [
    "## Test Model\n",
    "# predictions = [x[0] for x in model[\"model\"].predict(test[factors])]\n",
    "# test[\"predictions\"] = predictions"
   ]
  },
  {
   "cell_type": "code",
   "execution_count": null,
   "metadata": {},
   "outputs": [],
   "source": [
    "## Visualize\n",
    "# plt.plot(test[index],test[\"predictions\"])\n",
    "# plt.plot(test[index],test[label])"
   ]
  },
  {
   "cell_type": "code",
   "execution_count": null,
   "metadata": {},
   "outputs": [],
   "source": [
    "## Store Model\n",
    "db.connect()\n",
    "db.store_data(\"model\",model)\n",
    "db.close()"
   ]
  }
 ],
 "metadata": {
  "kernelspec": {
   "display_name": "Python 3",
   "language": "python",
   "name": "python3"
  },
  "language_info": {
   "codemirror_mode": {
    "name": "ipython",
    "version": 3
   },
   "file_extension": ".py",
   "mimetype": "text/x-python",
   "name": "python",
   "nbconvert_exporter": "python",
   "pygments_lexer": "ipython3",
   "version": "3.8.0"
  }
 },
 "nbformat": 4,
 "nbformat_minor": 4
}
