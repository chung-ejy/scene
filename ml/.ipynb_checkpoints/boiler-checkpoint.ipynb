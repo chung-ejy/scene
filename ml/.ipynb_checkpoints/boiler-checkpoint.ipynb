{
 "cells": [
  {
   "cell_type": "code",
   "execution_count": 1,
   "metadata": {},
   "outputs": [],
   "source": [
    "import pandas as pd\n",
    "from database.database import Database\n",
    "from modeler.modeler import Modeler as m\n",
    "import matplotlib.pyplot as plt\n",
    "from datetime import datetime, timedelta"
   ]
  },
  {
   "cell_type": "code",
   "execution_count": 2,
   "metadata": {},
   "outputs": [],
   "source": [
    "project_name = \"scene\""
   ]
  },
  {
   "cell_type": "code",
   "execution_count": 3,
   "metadata": {},
   "outputs": [],
   "source": [
    "db = Database(project_name)"
   ]
  },
  {
   "cell_type": "code",
   "execution_count": 32,
   "metadata": {},
   "outputs": [],
   "source": [
    "## Transform data\n",
    "reviews = pd.read_csv(\"rotten_tomatoes_critic_reviews.csv\")\n",
    "movies = pd.read_csv(\"rotten_tomatoes_movies.csv\")\n",
    "trailers = pd.read_csv(\"ml-youtube.csv\")"
   ]
  },
  {
   "cell_type": "code",
   "execution_count": 34,
   "metadata": {},
   "outputs": [],
   "source": [
    "db.connect()\n",
    "db.store_data(\"trailers\",trailers)\n",
    "db.close()"
   ]
  },
  {
   "cell_type": "code",
   "execution_count": 7,
   "metadata": {},
   "outputs": [],
   "source": [
    "db.connect()\n",
    "db.store_data(\"movies\",movies)\n",
    "db.close()"
   ]
  },
  {
   "cell_type": "code",
   "execution_count": 35,
   "metadata": {},
   "outputs": [
    {
     "data": {
      "text/html": [
       "<div>\n",
       "<style scoped>\n",
       "    .dataframe tbody tr th:only-of-type {\n",
       "        vertical-align: middle;\n",
       "    }\n",
       "\n",
       "    .dataframe tbody tr th {\n",
       "        vertical-align: top;\n",
       "    }\n",
       "\n",
       "    .dataframe thead th {\n",
       "        text-align: right;\n",
       "    }\n",
       "</style>\n",
       "<table border=\"1\" class=\"dataframe\">\n",
       "  <thead>\n",
       "    <tr style=\"text-align: right;\">\n",
       "      <th></th>\n",
       "      <th>youtubeId</th>\n",
       "      <th>movieId</th>\n",
       "      <th>title</th>\n",
       "    </tr>\n",
       "  </thead>\n",
       "  <tbody>\n",
       "    <tr>\n",
       "      <th>0</th>\n",
       "      <td>K26_sDKnvMU</td>\n",
       "      <td>1</td>\n",
       "      <td>Toy Story (1995)</td>\n",
       "    </tr>\n",
       "    <tr>\n",
       "      <th>1</th>\n",
       "      <td>3LPANjHlPxo</td>\n",
       "      <td>2</td>\n",
       "      <td>Jumanji (1995)</td>\n",
       "    </tr>\n",
       "    <tr>\n",
       "      <th>2</th>\n",
       "      <td>rEnOoWs3FuA</td>\n",
       "      <td>3</td>\n",
       "      <td>Grumpier Old Men (1995)</td>\n",
       "    </tr>\n",
       "    <tr>\n",
       "      <th>3</th>\n",
       "      <td>j9xml1CxgXI</td>\n",
       "      <td>4</td>\n",
       "      <td>Waiting to Exhale (1995)</td>\n",
       "    </tr>\n",
       "    <tr>\n",
       "      <th>4</th>\n",
       "      <td>ltwvKLnj1B4</td>\n",
       "      <td>5</td>\n",
       "      <td>Father of the Bride Part II (1995)</td>\n",
       "    </tr>\n",
       "    <tr>\n",
       "      <th>...</th>\n",
       "      <td>...</td>\n",
       "      <td>...</td>\n",
       "      <td>...</td>\n",
       "    </tr>\n",
       "    <tr>\n",
       "      <th>25618</th>\n",
       "      <td>-oB6DN5dYWo</td>\n",
       "      <td>131252</td>\n",
       "      <td>Forklift Driver Klaus: The First Day on the Jo...</td>\n",
       "    </tr>\n",
       "    <tr>\n",
       "      <th>25619</th>\n",
       "      <td>DK7KQ-gEdl4</td>\n",
       "      <td>131256</td>\n",
       "      <td>Feuer, Eis &amp; Dosenbier (2002)</td>\n",
       "    </tr>\n",
       "    <tr>\n",
       "      <th>25620</th>\n",
       "      <td>v29P-wchMZQ</td>\n",
       "      <td>131258</td>\n",
       "      <td>The Pirates (2014)</td>\n",
       "    </tr>\n",
       "    <tr>\n",
       "      <th>25621</th>\n",
       "      <td>dAz-nZ65jYU</td>\n",
       "      <td>131260</td>\n",
       "      <td>Rentun Ruusu (2001)</td>\n",
       "    </tr>\n",
       "    <tr>\n",
       "      <th>25622</th>\n",
       "      <td>YWmbl_7VVYk</td>\n",
       "      <td>131262</td>\n",
       "      <td>Innocence (2014)</td>\n",
       "    </tr>\n",
       "  </tbody>\n",
       "</table>\n",
       "<p>25623 rows × 3 columns</p>\n",
       "</div>"
      ],
      "text/plain": [
       "         youtubeId  movieId                                              title\n",
       "0      K26_sDKnvMU        1                                   Toy Story (1995)\n",
       "1      3LPANjHlPxo        2                                     Jumanji (1995)\n",
       "2      rEnOoWs3FuA        3                            Grumpier Old Men (1995)\n",
       "3      j9xml1CxgXI        4                           Waiting to Exhale (1995)\n",
       "4      ltwvKLnj1B4        5                 Father of the Bride Part II (1995)\n",
       "...            ...      ...                                                ...\n",
       "25618  -oB6DN5dYWo   131252  Forklift Driver Klaus: The First Day on the Jo...\n",
       "25619  DK7KQ-gEdl4   131256                      Feuer, Eis & Dosenbier (2002)\n",
       "25620  v29P-wchMZQ   131258                                 The Pirates (2014)\n",
       "25621  dAz-nZ65jYU   131260                                Rentun Ruusu (2001)\n",
       "25622  YWmbl_7VVYk   131262                                   Innocence (2014)\n",
       "\n",
       "[25623 rows x 3 columns]"
      ]
     },
     "execution_count": 35,
     "metadata": {},
     "output_type": "execute_result"
    }
   ],
   "source": [
    "trailers"
   ]
  },
  {
   "cell_type": "code",
   "execution_count": 30,
   "metadata": {
    "scrolled": true
   },
   "outputs": [
    {
     "data": {
      "text/plain": [
       "{'rotten_tomatoes_link': 'm/wedding_banquet',\n",
       " 'movie_title': 'The Wedding Banquet (Xi yan)',\n",
       " 'movie_info': \"Wai-Tung (Winston Chao) and his boyfriend (Mitchell Lichtenstein) live happily as a gay couple in New York City. Wai-Tung has not been open about his sexuality with his Taiwanese parents (Sihung Lung, Ah-Leh Gua), and decides to acquiesce to their wish for a traditional Chinese union by marrying Wei-Wei (May Chin), a struggling artist desperate for a green card. But the simple arrangement turns into a lavish debacle when Wai-Tung's parents plan an extravagant wedding banquet.\",\n",
       " 'critics_consensus': \"Ang Lee's funny and ultimately poignant comedy of manners reveals the filmmaker's skill across genres.\",\n",
       " 'content_rating': 'R',\n",
       " 'genres': 'Art House & International, Comedy, Drama, Romance, Gay & Lesbian',\n",
       " 'directors': 'Ang Lee',\n",
       " 'authors': 'Ang Lee, James Schamus, Neil Peng',\n",
       " 'actors': \"Winston Chao, May Chin, Mitchell Lichtenstein, Sihung Lung, Ah-Leh Gua, Tien Pien, Neal Huff, Michael Gaston, Jeffrey Howard, Anthony 'Iggy' Ingoglia, Dion Birney, John Nathan Turner, Patricia Sullivan, Jeanne Kuo Chang, Mason Lee, Ang Lee, Chung-Wei Chon\",\n",
       " 'original_release_date': '1993-08-04',\n",
       " 'streaming_release_date': '2017-03-01',\n",
       " 'runtime': 107.0,\n",
       " 'production_company': 'Good Machine',\n",
       " 'tomatometer_status': 'Fresh',\n",
       " 'tomatometer_rating': 96.0,\n",
       " 'tomatometer_count': 28.0,\n",
       " 'audience_status': 'Upright',\n",
       " 'audience_rating': 100.0,\n",
       " 'audience_count': 5.0,\n",
       " 'tomatometer_top_critics_count': 8,\n",
       " 'tomatometer_fresh_critics_count': 27,\n",
       " 'tomatometer_rotten_critics_count': 1}"
      ]
     },
     "execution_count": 30,
     "metadata": {},
     "output_type": "execute_result"
    }
   ],
   "source": [
    "movies.dropna(inplace=True)\n",
    "pd.DataFrame([row[1] for row in movies.iterrows() if \"Comedy\" in row[1][\"genres\"] and int(row[1][\"audience_rating\"])>80]).sort_values(\"audience_rating\",ascending=False).iloc[0].to_dict()"
   ]
  },
  {
   "cell_type": "code",
   "execution_count": null,
   "metadata": {},
   "outputs": [],
   "source": [
    "pd.read_html(\"https://www.youtube.com/results?search_query=guardians+of+the+galaxy+trailer\")"
   ]
  },
  {
   "cell_type": "code",
   "execution_count": null,
   "metadata": {},
   "outputs": [],
   "source": [
    "# ## Refine Data\n",
    "# ## if classification make appropriate changes\n",
    "# factors = []\n",
    "# label = \"\"\n",
    "# index = \"\"\n",
    "# data[\"y\"] = data[label]\n",
    "# data.drop(label,axis=1)\n",
    "# data = data.sample(frac=1)\n",
    "# train = data.iloc[:int(data.index.size * 0.7)]\n",
    "# test = data.iloc[int(data.index.size * 0.7):]\n",
    "# X = train[factors]\n",
    "# y = train[[\"y\"]]\n",
    "# y[\"y_class\"] = 1\n",
    "# refined_data = {\"X\":X,\"y\":y}"
   ]
  },
  {
   "cell_type": "code",
   "execution_count": null,
   "metadata": {},
   "outputs": [],
   "source": [
    "## Model\n",
    "# model = m.regression(refined_data,ranked=False,tf=False,deep=False,sk=True,xgb=True)"
   ]
  },
  {
   "cell_type": "code",
   "execution_count": null,
   "metadata": {},
   "outputs": [],
   "source": [
    "## Test Model\n",
    "# predictions = [x[0] for x in model[\"model\"].predict(test[factors])]\n",
    "# test[\"predictions\"] = predictions"
   ]
  },
  {
   "cell_type": "code",
   "execution_count": null,
   "metadata": {},
   "outputs": [],
   "source": [
    "## Visualize\n",
    "# plt.plot(test[index],test[\"predictions\"])\n",
    "# plt.plot(test[index],test[label])"
   ]
  },
  {
   "cell_type": "code",
   "execution_count": null,
   "metadata": {},
   "outputs": [],
   "source": [
    "## Store Model\n",
    "db.connect()\n",
    "db.store_data(\"model\",model)\n",
    "db.close()"
   ]
  }
 ],
 "metadata": {
  "kernelspec": {
   "display_name": "Python 3",
   "language": "python",
   "name": "python3"
  },
  "language_info": {
   "codemirror_mode": {
    "name": "ipython",
    "version": 3
   },
   "file_extension": ".py",
   "mimetype": "text/x-python",
   "name": "python",
   "nbconvert_exporter": "python",
   "pygments_lexer": "ipython3",
   "version": "3.8.0"
  }
 },
 "nbformat": 4,
 "nbformat_minor": 4
}
